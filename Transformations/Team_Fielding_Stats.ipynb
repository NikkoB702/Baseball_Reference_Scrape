{
 "cells": [
  {
   "cell_type": "code",
   "execution_count": 2,
   "id": "688a5ba3",
   "metadata": {},
   "outputs": [],
   "source": [
    "import pandas as pd\n",
    "\n",
    "url = \"https://www.baseball-reference.com/leagues/majors/2023-standard-fielding.shtml\"\n",
    "tables = pd.read_html(url, match=\"Team Fielding\")\n",
    "df = tables[0]\n",
    "\n",
    "csv_file_path = \"team_fielding.csv\"\n",
    "df.to_csv(csv_file_path, index=False)"
   ]
  }
 ],
 "metadata": {
  "kernelspec": {
   "display_name": "PythonData",
   "language": "python",
   "name": "pythondata"
  },
  "language_info": {
   "codemirror_mode": {
    "name": "ipython",
    "version": 3
   },
   "file_extension": ".py",
   "mimetype": "text/x-python",
   "name": "python",
   "nbconvert_exporter": "python",
   "pygments_lexer": "ipython3",
   "version": "3.9.12"
  }
 },
 "nbformat": 4,
 "nbformat_minor": 5
}
