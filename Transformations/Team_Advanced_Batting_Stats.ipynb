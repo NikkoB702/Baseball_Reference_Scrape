{
 "cells": [
  {
   "cell_type": "code",
   "execution_count": 1,
   "id": "6bb7260c",
   "metadata": {},
   "outputs": [],
   "source": [
    "import pandas as pd\n",
    "\n",
    "url = \"https://www.baseball-reference.com/leagues/majors/2023-advanced-batting.shtml\"\n",
    "tables = pd.read_html(url, match=\"Team Advanced Batting\")\n",
    "df = tables[0]\n",
    "\n",
    "csv_file_path = \"team_advanced_batting_stats.csv\"\n",
    "df.to_csv(csv_file_path, index=False)"
   ]
  }
 ],
 "metadata": {
  "kernelspec": {
   "display_name": "PythonData",
   "language": "python",
   "name": "pythondata"
  },
  "language_info": {
   "codemirror_mode": {
    "name": "ipython",
    "version": 3
   },
   "file_extension": ".py",
   "mimetype": "text/x-python",
   "name": "python",
   "nbconvert_exporter": "python",
   "pygments_lexer": "ipython3",
   "version": "3.9.12"
  }
 },
 "nbformat": 4,
 "nbformat_minor": 5
}
