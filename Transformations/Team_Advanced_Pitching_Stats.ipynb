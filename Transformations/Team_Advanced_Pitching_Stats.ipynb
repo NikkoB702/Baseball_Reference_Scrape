{
 "cells": [
  {
   "cell_type": "code",
   "execution_count": 2,
   "id": "60880d1c",
   "metadata": {},
   "outputs": [],
   "source": [
    "import pandas as pd\n",
    "\n",
    "url = \"https://www.baseball-reference.com/leagues/majors/2023-advanced-pitching.shtml\"\n",
    "tables = pd.read_html(url, match=\"Team Advanced Pitching\")\n",
    "df = tables[0]\n",
    "\n",
    "csv_file_path = \"team_advanced_pitching_stats.csv\"\n",
    "df.to_csv(csv_file_path, index=False)"
   ]
  }
 ],
 "metadata": {
  "kernelspec": {
   "display_name": "PythonData",
   "language": "python",
   "name": "pythondata"
  },
  "language_info": {
   "codemirror_mode": {
    "name": "ipython",
    "version": 3
   },
   "file_extension": ".py",
   "mimetype": "text/x-python",
   "name": "python",
   "nbconvert_exporter": "python",
   "pygments_lexer": "ipython3",
   "version": "3.9.12"
  }
 },
 "nbformat": 4,
 "nbformat_minor": 5
}
